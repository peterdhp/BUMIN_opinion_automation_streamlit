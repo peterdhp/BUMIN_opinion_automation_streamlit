{
 "cells": [
  {
   "cell_type": "code",
   "execution_count": 2,
   "metadata": {},
   "outputs": [
    {
     "data": {
      "text/plain": [
       "['분변 얼리텍 대장암검사',\n",
       " '청력검사',\n",
       " '혈압검사',\n",
       " '안압검사',\n",
       " '말초혈액도말검사',\n",
       " '위내시경',\n",
       " '대장내시경',\n",
       " '상복부 초음파',\n",
       " '경동맥 초음파',\n",
       " '심장 초음파',\n",
       " '갑상선 초음파',\n",
       " '유방 초음파',\n",
       " '하복부 초음파',\n",
       " nan,\n",
       " '자궁경부 인유두종바이러스',\n",
       " '유방 X-선',\n",
       " '유방 X-선 + 유방 초음파',\n",
       " '흉부 X-선',\n",
       " '요추 CT',\n",
       " '뇌 CT',\n",
       " '요추 X-선',\n",
       " '경추 X-선',\n",
       " '저선량 폐 CT',\n",
       " '복부비만 CT',\n",
       " '뇌 MRI',\n",
       " '뇌 MRA',\n",
       " '경추 MRI',\n",
       " '요추 MRI',\n",
       " '좌측 무릎 X-선',\n",
       " '우측 무릎 X-선',\n",
       " '좌측 어깨 X-선',\n",
       " '우측 어깨 X-선',\n",
       " '경동맥 MRA',\n",
       " 'C형 간염',\n",
       " '폐암검진',\n",
       " '자궁경부암',\n",
       " '심박 변이도',\n",
       " '심전도']"
      ]
     },
     "execution_count": 2,
     "metadata": {},
     "output_type": "execute_result"
    }
   ],
   "source": [
    "import pandas as pd\n",
    "\n",
    "# Load the Excel file\n",
    "file_path = '새롬 판정 코드_LLM.xlsx'\n",
    "df = pd.read_excel(file_path)\n",
    "\n",
    "# Extract the unique names of \"검사명\"\n",
    "unique_names = df['검사명'].unique()\n",
    "\n",
    "# Display the unique names\n",
    "unique_names_list = unique_names.tolist()\n",
    "unique_names_list"
   ]
  },
  {
   "cell_type": "code",
   "execution_count": 9,
   "metadata": {},
   "outputs": [
    {
     "data": {
      "application/vnd.jupyter.widget-view+json": {
       "model_id": "f2a43f3476d948b6b47d4c668e3afb96",
       "version_major": 2,
       "version_minor": 0
      },
      "text/plain": [
       "  0%|          | 0/442 [00:00<?, ?it/s]"
      ]
     },
     "metadata": {},
     "output_type": "display_data"
    },
    {
     "name": "stdout",
     "output_type": "stream",
     "text": [
      "Excel file has been saved. row : 100\n",
      "Excel file has been saved. row : 400\n",
      "Excel file has been saved. row : 500\n",
      "New Excel file has been created: 새롬 판정 코드_LLM_translated.xlsx\n"
     ]
    }
   ],
   "source": [
    "import pandas as pd\n",
    "from langchain_core.prompts import PromptTemplate\n",
    "from langchain_openai import ChatOpenAI\n",
    "from langchain_core.output_parsers import StrOutputParser\n",
    "from langchain_community.callbacks import get_openai_callback\n",
    "from tqdm.auto import tqdm\n",
    "from dotenv import load_dotenv\n",
    "\n",
    "load_dotenv()\n",
    "\n",
    "# Load the Excel file from the specified sheet\n",
    "filepath = '새롬 판정 코드_LLM.xlsx'\n",
    "df = pd.read_excel(filepath, sheet_name='소견정보-원본')\n",
    "\n",
    "df = df.iloc[:586]\n",
    "df = df.dropna(subset=['검사명'])\n",
    "\n",
    "# Define and drop columns that are not needed\n",
    "columns_to_drop = ['카테고리', '질환코드', '판정', '순번', '참조', '공단분류', '장비약어','사용유무','한글소견제목','영문소견제목','영문장비소견','외국어소견','추적관찰내용','구분1','구분2','구분3']\n",
    "df = df.drop(columns=columns_to_drop)\n",
    "\n",
    "# Ensure the new columns can accept string values\n",
    "df['검사명(영문)'] = ''\n",
    "df['소견명(영문)'] = ''\n",
    "df['영문종합소견'] = ''\n",
    "\n",
    "def content_translator(text):\n",
    "    prompt_template = \"\"\"\n",
    "    Translate the content into English. Be aware that the content is medical information or terms. Only give the output.\n",
    "    \n",
    "    \n",
    "    [medical content]\n",
    "    {medical_content}\n",
    "    \"\"\"\n",
    "    prompt = PromptTemplate.from_template(prompt_template)\n",
    "    llm = ChatOpenAI(model_name=\"gpt-4o\", temperature=0)\n",
    "    output_parser = StrOutputParser()\n",
    "    chain = prompt | llm | output_parser\n",
    "    output = chain.invoke({\"medical_content\": text})\n",
    "\n",
    "    return output\n",
    "\n",
    "new_filepath = \"새롬 판정 코드_LLM_translated.xlsx\"\n",
    "\n",
    "\n",
    "# Populate new columns using tqdm for progress display\n",
    "for index, row in tqdm(df.iterrows(), total=df.shape[0]):\n",
    "    test_english = content_translator(row['검사명'])\n",
    "    opinion_english = content_translator(row['소견명'])\n",
    "    translated_content = content_translator(row['한글종합소견'])\n",
    "    \n",
    "    df.at[index, '검사명(영문)'] = test_english\n",
    "    df.at[index, '소견명(영문)'] = opinion_english\n",
    "    df.at[index, '영문종합소견'] = translated_content\n",
    "    \n",
    "    if (index + 1) % 100 == 0:\n",
    "        df.to_excel(new_filepath, index=False)\n",
    "        print(\"Excel file has been saved. row :\", str(index + 1))\n",
    "\n",
    "# Save the updated DataFrame to a new Excel file\n",
    "df.to_excel(new_filepath, index=False)\n",
    "print(\"New Excel file has been created:\", new_filepath)"
   ]
  },
  {
   "cell_type": "code",
   "execution_count": 1,
   "metadata": {},
   "outputs": [
    {
     "ename": "KeyError",
     "evalue": "'english_text'",
     "output_type": "error",
     "traceback": [
      "\u001b[0;31m---------------------------------------------------------------------------\u001b[0m",
      "\u001b[0;31mKeyError\u001b[0m                                  Traceback (most recent call last)",
      "File \u001b[0;32m/opt/anaconda3/envs/MedAssitant/lib/python3.11/site-packages/pandas/core/indexes/base.py:3802\u001b[0m, in \u001b[0;36mIndex.get_loc\u001b[0;34m(self, key)\u001b[0m\n\u001b[1;32m   3801\u001b[0m \u001b[38;5;28;01mtry\u001b[39;00m:\n\u001b[0;32m-> 3802\u001b[0m     \u001b[38;5;28;01mreturn\u001b[39;00m \u001b[38;5;28;43mself\u001b[39;49m\u001b[38;5;241;43m.\u001b[39;49m\u001b[43m_engine\u001b[49m\u001b[38;5;241;43m.\u001b[39;49m\u001b[43mget_loc\u001b[49m\u001b[43m(\u001b[49m\u001b[43mcasted_key\u001b[49m\u001b[43m)\u001b[49m\n\u001b[1;32m   3803\u001b[0m \u001b[38;5;28;01mexcept\u001b[39;00m \u001b[38;5;167;01mKeyError\u001b[39;00m \u001b[38;5;28;01mas\u001b[39;00m err:\n",
      "File \u001b[0;32mindex.pyx:153\u001b[0m, in \u001b[0;36mpandas._libs.index.IndexEngine.get_loc\u001b[0;34m()\u001b[0m\n",
      "File \u001b[0;32mindex.pyx:182\u001b[0m, in \u001b[0;36mpandas._libs.index.IndexEngine.get_loc\u001b[0;34m()\u001b[0m\n",
      "File \u001b[0;32mpandas/_libs/hashtable_class_helper.pxi:7081\u001b[0m, in \u001b[0;36mpandas._libs.hashtable.PyObjectHashTable.get_item\u001b[0;34m()\u001b[0m\n",
      "File \u001b[0;32mpandas/_libs/hashtable_class_helper.pxi:7089\u001b[0m, in \u001b[0;36mpandas._libs.hashtable.PyObjectHashTable.get_item\u001b[0;34m()\u001b[0m\n",
      "\u001b[0;31mKeyError\u001b[0m: 'english_text'",
      "\nThe above exception was the direct cause of the following exception:\n",
      "\u001b[0;31mKeyError\u001b[0m                                  Traceback (most recent call last)",
      "Cell \u001b[0;32mIn[1], line 13\u001b[0m\n\u001b[1;32m      8\u001b[0m     \u001b[38;5;28;01mreturn\u001b[39;00m Document(page_content\u001b[38;5;241m=\u001b[39mrow[\u001b[38;5;124m'\u001b[39m\u001b[38;5;124menglish_text\u001b[39m\u001b[38;5;124m'\u001b[39m], metadata\u001b[38;5;241m=\u001b[39m{\u001b[38;5;124m'\u001b[39m\u001b[38;5;124mtest\u001b[39m\u001b[38;5;124m'\u001b[39m: row[\u001b[38;5;124m'\u001b[39m\u001b[38;5;124m검사명\u001b[39m\u001b[38;5;124m'\u001b[39m], \u001b[38;5;124m'\u001b[39m\u001b[38;5;124mkorean\u001b[39m\u001b[38;5;124m'\u001b[39m: row[\u001b[38;5;124m'\u001b[39m\u001b[38;5;124m한글종합소견\u001b[39m\u001b[38;5;124m'\u001b[39m]})\n\u001b[1;32m     10\u001b[0m \u001b[38;5;66;03m# Sample DataFrame (please replace 'df' with your actual DataFrame)\u001b[39;00m\n\u001b[1;32m     11\u001b[0m \n\u001b[1;32m     12\u001b[0m \u001b[38;5;66;03m# Convert each row in the DataFrame to a Document object using tqdm\u001b[39;00m\n\u001b[0;32m---> 13\u001b[0m docs \u001b[38;5;241m=\u001b[39m \u001b[43m[\u001b[49m\u001b[43mcreate_document\u001b[49m\u001b[43m(\u001b[49m\u001b[43mrow\u001b[49m\u001b[43m)\u001b[49m\u001b[43m \u001b[49m\u001b[38;5;28;43;01mfor\u001b[39;49;00m\u001b[43m \u001b[49m\u001b[43mindex\u001b[49m\u001b[43m,\u001b[49m\u001b[43m \u001b[49m\u001b[43mrow\u001b[49m\u001b[43m \u001b[49m\u001b[38;5;129;43;01min\u001b[39;49;00m\u001b[43m \u001b[49m\u001b[43mdf_forloading\u001b[49m\u001b[38;5;241;43m.\u001b[39;49m\u001b[43miterrows\u001b[49m\u001b[43m(\u001b[49m\u001b[43m)\u001b[49m\u001b[43m]\u001b[49m\n\u001b[1;32m     15\u001b[0m \u001b[38;5;28mprint\u001b[39m(docs)  \u001b[38;5;66;03m# This line is just for verification; remove or replace as needed\u001b[39;00m\n",
      "Cell \u001b[0;32mIn[1], line 13\u001b[0m, in \u001b[0;36m<listcomp>\u001b[0;34m(.0)\u001b[0m\n\u001b[1;32m      8\u001b[0m     \u001b[38;5;28;01mreturn\u001b[39;00m Document(page_content\u001b[38;5;241m=\u001b[39mrow[\u001b[38;5;124m'\u001b[39m\u001b[38;5;124menglish_text\u001b[39m\u001b[38;5;124m'\u001b[39m], metadata\u001b[38;5;241m=\u001b[39m{\u001b[38;5;124m'\u001b[39m\u001b[38;5;124mtest\u001b[39m\u001b[38;5;124m'\u001b[39m: row[\u001b[38;5;124m'\u001b[39m\u001b[38;5;124m검사명\u001b[39m\u001b[38;5;124m'\u001b[39m], \u001b[38;5;124m'\u001b[39m\u001b[38;5;124mkorean\u001b[39m\u001b[38;5;124m'\u001b[39m: row[\u001b[38;5;124m'\u001b[39m\u001b[38;5;124m한글종합소견\u001b[39m\u001b[38;5;124m'\u001b[39m]})\n\u001b[1;32m     10\u001b[0m \u001b[38;5;66;03m# Sample DataFrame (please replace 'df' with your actual DataFrame)\u001b[39;00m\n\u001b[1;32m     11\u001b[0m \n\u001b[1;32m     12\u001b[0m \u001b[38;5;66;03m# Convert each row in the DataFrame to a Document object using tqdm\u001b[39;00m\n\u001b[0;32m---> 13\u001b[0m docs \u001b[38;5;241m=\u001b[39m [\u001b[43mcreate_document\u001b[49m\u001b[43m(\u001b[49m\u001b[43mrow\u001b[49m\u001b[43m)\u001b[49m \u001b[38;5;28;01mfor\u001b[39;00m index, row \u001b[38;5;129;01min\u001b[39;00m df_forloading\u001b[38;5;241m.\u001b[39miterrows()]\n\u001b[1;32m     15\u001b[0m \u001b[38;5;28mprint\u001b[39m(docs)  \u001b[38;5;66;03m# This line is just for verification; remove or replace as needed\u001b[39;00m\n",
      "Cell \u001b[0;32mIn[1], line 8\u001b[0m, in \u001b[0;36mcreate_document\u001b[0;34m(row)\u001b[0m\n\u001b[1;32m      7\u001b[0m \u001b[38;5;28;01mdef\u001b[39;00m \u001b[38;5;21mcreate_document\u001b[39m(row):\n\u001b[0;32m----> 8\u001b[0m     \u001b[38;5;28;01mreturn\u001b[39;00m Document(page_content\u001b[38;5;241m=\u001b[39m\u001b[43mrow\u001b[49m\u001b[43m[\u001b[49m\u001b[38;5;124;43m'\u001b[39;49m\u001b[38;5;124;43menglish_text\u001b[39;49m\u001b[38;5;124;43m'\u001b[39;49m\u001b[43m]\u001b[49m, metadata\u001b[38;5;241m=\u001b[39m{\u001b[38;5;124m'\u001b[39m\u001b[38;5;124mtest\u001b[39m\u001b[38;5;124m'\u001b[39m: row[\u001b[38;5;124m'\u001b[39m\u001b[38;5;124m검사명\u001b[39m\u001b[38;5;124m'\u001b[39m], \u001b[38;5;124m'\u001b[39m\u001b[38;5;124mkorean\u001b[39m\u001b[38;5;124m'\u001b[39m: row[\u001b[38;5;124m'\u001b[39m\u001b[38;5;124m한글종합소견\u001b[39m\u001b[38;5;124m'\u001b[39m]})\n",
      "File \u001b[0;32m/opt/anaconda3/envs/MedAssitant/lib/python3.11/site-packages/pandas/core/series.py:1111\u001b[0m, in \u001b[0;36mSeries.__getitem__\u001b[0;34m(self, key)\u001b[0m\n\u001b[1;32m   1108\u001b[0m     \u001b[38;5;28;01mreturn\u001b[39;00m \u001b[38;5;28mself\u001b[39m\u001b[38;5;241m.\u001b[39m_values[key]\n\u001b[1;32m   1110\u001b[0m \u001b[38;5;28;01melif\u001b[39;00m key_is_scalar:\n\u001b[0;32m-> 1111\u001b[0m     \u001b[38;5;28;01mreturn\u001b[39;00m \u001b[38;5;28;43mself\u001b[39;49m\u001b[38;5;241;43m.\u001b[39;49m\u001b[43m_get_value\u001b[49m\u001b[43m(\u001b[49m\u001b[43mkey\u001b[49m\u001b[43m)\u001b[49m\n\u001b[1;32m   1113\u001b[0m \u001b[38;5;66;03m# Convert generator to list before going through hashable part\u001b[39;00m\n\u001b[1;32m   1114\u001b[0m \u001b[38;5;66;03m# (We will iterate through the generator there to check for slices)\u001b[39;00m\n\u001b[1;32m   1115\u001b[0m \u001b[38;5;28;01mif\u001b[39;00m is_iterator(key):\n",
      "File \u001b[0;32m/opt/anaconda3/envs/MedAssitant/lib/python3.11/site-packages/pandas/core/series.py:1227\u001b[0m, in \u001b[0;36mSeries._get_value\u001b[0;34m(self, label, takeable)\u001b[0m\n\u001b[1;32m   1224\u001b[0m     \u001b[38;5;28;01mreturn\u001b[39;00m \u001b[38;5;28mself\u001b[39m\u001b[38;5;241m.\u001b[39m_values[label]\n\u001b[1;32m   1226\u001b[0m \u001b[38;5;66;03m# Similar to Index.get_value, but we do not fall back to positional\u001b[39;00m\n\u001b[0;32m-> 1227\u001b[0m loc \u001b[38;5;241m=\u001b[39m \u001b[38;5;28;43mself\u001b[39;49m\u001b[38;5;241;43m.\u001b[39;49m\u001b[43mindex\u001b[49m\u001b[38;5;241;43m.\u001b[39;49m\u001b[43mget_loc\u001b[49m\u001b[43m(\u001b[49m\u001b[43mlabel\u001b[49m\u001b[43m)\u001b[49m\n\u001b[1;32m   1229\u001b[0m \u001b[38;5;28;01mif\u001b[39;00m is_integer(loc):\n\u001b[1;32m   1230\u001b[0m     \u001b[38;5;28;01mreturn\u001b[39;00m \u001b[38;5;28mself\u001b[39m\u001b[38;5;241m.\u001b[39m_values[loc]\n",
      "File \u001b[0;32m/opt/anaconda3/envs/MedAssitant/lib/python3.11/site-packages/pandas/core/indexes/base.py:3809\u001b[0m, in \u001b[0;36mIndex.get_loc\u001b[0;34m(self, key)\u001b[0m\n\u001b[1;32m   3804\u001b[0m     \u001b[38;5;28;01mif\u001b[39;00m \u001b[38;5;28misinstance\u001b[39m(casted_key, \u001b[38;5;28mslice\u001b[39m) \u001b[38;5;129;01mor\u001b[39;00m (\n\u001b[1;32m   3805\u001b[0m         \u001b[38;5;28misinstance\u001b[39m(casted_key, abc\u001b[38;5;241m.\u001b[39mIterable)\n\u001b[1;32m   3806\u001b[0m         \u001b[38;5;129;01mand\u001b[39;00m \u001b[38;5;28many\u001b[39m(\u001b[38;5;28misinstance\u001b[39m(x, \u001b[38;5;28mslice\u001b[39m) \u001b[38;5;28;01mfor\u001b[39;00m x \u001b[38;5;129;01min\u001b[39;00m casted_key)\n\u001b[1;32m   3807\u001b[0m     ):\n\u001b[1;32m   3808\u001b[0m         \u001b[38;5;28;01mraise\u001b[39;00m InvalidIndexError(key)\n\u001b[0;32m-> 3809\u001b[0m     \u001b[38;5;28;01mraise\u001b[39;00m \u001b[38;5;167;01mKeyError\u001b[39;00m(key) \u001b[38;5;28;01mfrom\u001b[39;00m \u001b[38;5;21;01merr\u001b[39;00m\n\u001b[1;32m   3810\u001b[0m \u001b[38;5;28;01mexcept\u001b[39;00m \u001b[38;5;167;01mTypeError\u001b[39;00m:\n\u001b[1;32m   3811\u001b[0m     \u001b[38;5;66;03m# If we have a listlike key, _check_indexing_error will raise\u001b[39;00m\n\u001b[1;32m   3812\u001b[0m     \u001b[38;5;66;03m#  InvalidIndexError. Otherwise we fall through and re-raise\u001b[39;00m\n\u001b[1;32m   3813\u001b[0m     \u001b[38;5;66;03m#  the TypeError.\u001b[39;00m\n\u001b[1;32m   3814\u001b[0m     \u001b[38;5;28mself\u001b[39m\u001b[38;5;241m.\u001b[39m_check_indexing_error(key)\n",
      "\u001b[0;31mKeyError\u001b[0m: 'english_text'"
     ]
    }
   ],
   "source": [
    "import pandas as pd\n",
    "from langchain_core.documents.base import Document\n",
    "\n",
    "filepath = \"새롬 판정 코드_LLM_translated.xlsx\"\n",
    "df_forloading = pd.read_excel(filepath,sheet_name='subjective')\n",
    "# Function to create a Document from a DataFrame row\n",
    "def create_document(row):\n",
    "    return Document(page_content=row['영문종합소견'], metadata={'test': row['검사명'], 'korean': row['한글종합소견']})\n",
    "\n",
    "# Sample DataFrame (please replace 'df' with your actual DataFrame)\n",
    "\n",
    "# Convert each row in the DataFrame to a Document object using tqdm\n",
    "docs = [create_document(row) for index, row in df_forloading.iterrows()]\n",
    "\n",
    "print(docs)  # This line is just for verification; remove or replace as needed"
   ]
  },
  {
   "cell_type": "code",
   "execution_count": null,
   "metadata": {},
   "outputs": [],
   "source": []
  }
 ],
 "metadata": {
  "kernelspec": {
   "display_name": "MedAssitant",
   "language": "python",
   "name": "python3"
  },
  "language_info": {
   "codemirror_mode": {
    "name": "ipython",
    "version": 3
   },
   "file_extension": ".py",
   "mimetype": "text/x-python",
   "name": "python",
   "nbconvert_exporter": "python",
   "pygments_lexer": "ipython3",
   "version": "3.11.7"
  }
 },
 "nbformat": 4,
 "nbformat_minor": 2
}
