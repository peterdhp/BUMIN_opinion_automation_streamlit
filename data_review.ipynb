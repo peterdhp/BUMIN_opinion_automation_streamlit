{
 "cells": [
  {
   "cell_type": "code",
   "execution_count": 2,
   "metadata": {},
   "outputs": [
    {
     "data": {
      "text/plain": [
       "['분변 얼리텍 대장암검사',\n",
       " '청력검사',\n",
       " '혈압검사',\n",
       " '안압검사',\n",
       " '말초혈액도말검사',\n",
       " '위내시경',\n",
       " '대장내시경',\n",
       " '상복부 초음파',\n",
       " '경동맥 초음파',\n",
       " '심장 초음파',\n",
       " '갑상선 초음파',\n",
       " '유방 초음파',\n",
       " '하복부 초음파',\n",
       " nan,\n",
       " '자궁경부 인유두종바이러스',\n",
       " '유방 X-선',\n",
       " '유방 X-선 + 유방 초음파',\n",
       " '흉부 X-선',\n",
       " '요추 CT',\n",
       " '뇌 CT',\n",
       " '요추 X-선',\n",
       " '경추 X-선',\n",
       " '저선량 폐 CT',\n",
       " '복부비만 CT',\n",
       " '뇌 MRI',\n",
       " '뇌 MRA',\n",
       " '경추 MRI',\n",
       " '요추 MRI',\n",
       " '좌측 무릎 X-선',\n",
       " '우측 무릎 X-선',\n",
       " '좌측 어깨 X-선',\n",
       " '우측 어깨 X-선',\n",
       " '경동맥 MRA',\n",
       " 'C형 간염',\n",
       " '폐암검진',\n",
       " '자궁경부암',\n",
       " '심박 변이도',\n",
       " '심전도']"
      ]
     },
     "execution_count": 2,
     "metadata": {},
     "output_type": "execute_result"
    }
   ],
   "source": [
    "import pandas as pd\n",
    "\n",
    "# Load the Excel file\n",
    "file_path = '새롬 판정 코드_LLM.xlsx'\n",
    "df = pd.read_excel(file_path)\n",
    "\n",
    "# Extract the unique names of \"검사명\"\n",
    "unique_names = df['검사명'].unique()\n",
    "\n",
    "# Display the unique names\n",
    "unique_names_list = unique_names.tolist()\n",
    "unique_names_list"
   ]
  },
  {
   "cell_type": "code",
   "execution_count": 8,
   "metadata": {},
   "outputs": [
    {
     "data": {
      "application/vnd.jupyter.widget-view+json": {
       "model_id": "e23b66a179ba4bc988bd10f38736dae6",
       "version_major": 2,
       "version_minor": 0
      },
      "text/plain": [
       "  0%|          | 0/10 [00:00<?, ?it/s]"
      ]
     },
     "metadata": {},
     "output_type": "display_data"
    },
    {
     "name": "stdout",
     "output_type": "stream",
     "text": [
      "New Excel file has been created: 새롬 판정 코드_LLM_translated.xlsx\n"
     ]
    }
   ],
   "source": [
    "import pandas as pd\n",
    "from langchain_core.prompts import PromptTemplate\n",
    "from langchain_openai import ChatOpenAI\n",
    "from langchain_core.output_parsers import StrOutputParser\n",
    "from langchain_community.callbacks import get_openai_callback\n",
    "from tqdm.auto import tqdm\n",
    "from dotenv import load_dotenv\n",
    "\n",
    "load_dotenv()\n",
    "\n",
    "# Load the Excel file from the specified sheet\n",
    "filepath = '새롬 판정 코드_LLM.xlsx'\n",
    "df = pd.read_excel(filepath, sheet_name='소견정보-원본')\n",
    "\n",
    "df = df.iloc[:586]\n",
    "df = df.dropna(subset=['검사명'])\n",
    "\n",
    "# Define and drop columns that are not needed\n",
    "columns_to_drop = ['카테고리', '질환코드', '판정', '순번', '참조', '공단분류', '장비약어','사용유무','한글소견제목','영문소견제목','영문장비소견','외국어소견','추적관찰내용','구분1','구분2','구분3']\n",
    "df = df.drop(columns=columns_to_drop)\n",
    "\n",
    "# Ensure the new columns can accept string values\n",
    "df['검사명(영문)'] = ''\n",
    "df['소견명(영문)'] = ''\n",
    "df['영문종합소견'] = ''\n",
    "\n",
    "def content_translator(text):\n",
    "    prompt_template = \"\"\"\n",
    "    Translate the content into English. Be aware that the content is medical information or terms. Only give the output.\n",
    "    \n",
    "    \n",
    "    [medical content]\n",
    "    {medical_content}\n",
    "    \"\"\"\n",
    "    prompt = PromptTemplate.from_template(prompt_template)\n",
    "    llm = ChatOpenAI(model_name=\"gpt-4o\", temperature=0)\n",
    "    output_parser = StrOutputParser()\n",
    "    chain = prompt | llm | output_parser\n",
    "    output = chain.invoke({\"medical_content\": text})\n",
    "\n",
    "    return output\n",
    "\n",
    "new_filepath = \"새롬 판정 코드_LLM_translated.xlsx\"\n",
    "\n",
    "\n",
    "# Populate new columns using tqdm for progress display\n",
    "for index, row in tqdm(df.iterrows(), total=df.shape[0]):\n",
    "    test_english = content_translator(row['검사명'])\n",
    "    opinion_english = content_translator(row['소견명'])\n",
    "    translated_content = content_translator(row['한글종합소견'])\n",
    "    \n",
    "    df.at[index, '검사명(영문)'] = test_english\n",
    "    df.at[index, '소견명(영문)'] = opinion_english\n",
    "    df.at[index, '영문종합소견'] = translated_content\n",
    "    \n",
    "    if (index + 1) % 100 == 0:\n",
    "        df.to_excel(new_filepath, index=False)\n",
    "        print(\"Excel file has been saved. row :\", str(index + 1))\n",
    "\n",
    "# Save the updated DataFrame to a new Excel file\n",
    "df.to_excel(new_filepath, index=False)\n",
    "print(\"New Excel file has been created:\", new_filepath)"
   ]
  },
  {
   "cell_type": "code",
   "execution_count": null,
   "metadata": {},
   "outputs": [],
   "source": []
  }
 ],
 "metadata": {
  "kernelspec": {
   "display_name": "MedAssitant",
   "language": "python",
   "name": "python3"
  },
  "language_info": {
   "codemirror_mode": {
    "name": "ipython",
    "version": 3
   },
   "file_extension": ".py",
   "mimetype": "text/x-python",
   "name": "python",
   "nbconvert_exporter": "python",
   "pygments_lexer": "ipython3",
   "version": "3.11.7"
  }
 },
 "nbformat": 4,
 "nbformat_minor": 2
}
